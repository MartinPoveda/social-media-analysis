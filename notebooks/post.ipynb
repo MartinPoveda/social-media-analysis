{
 "cells": [
  {
   "cell_type": "markdown",
   "metadata": {},
   "source": [
    "# Post Analysis"
   ]
  },
  {
   "cell_type": "markdown",
   "metadata": {},
   "source": [
    "**This notebook is used to analyze the different posts done during the communication campaign**"
   ]
  },
  {
   "cell_type": "markdown",
   "metadata": {},
   "source": [
    "## Import libraries"
   ]
  },
  {
   "cell_type": "code",
   "execution_count": null,
   "metadata": {},
   "outputs": [],
   "source": [
    "# Import standard libraries\n",
    "import os"
   ]
  },
  {
   "cell_type": "code",
   "execution_count": null,
   "metadata": {},
   "outputs": [],
   "source": [
    "# Import librairies for data analysis and visualization\n",
    "import numpy as np\n",
    "import pandas as pd\n",
    "import matplotlib.pyplot as plt\n",
    "from matplotlib.pyplot import figure"
   ]
  },
  {
   "cell_type": "code",
   "execution_count": null,
   "metadata": {},
   "outputs": [],
   "source": [
    "# Import internal modules\n",
    "from src import plot\n",
    "from src import utility\n",
    "from src import features"
   ]
  },
  {
   "cell_type": "markdown",
   "metadata": {},
   "source": [
    "## Upload data"
   ]
  },
  {
   "cell_type": "code",
   "execution_count": null,
   "metadata": {},
   "outputs": [],
   "source": [
    "# Specifiy here the path your data and image folder\n",
    "DATA_PATH = f'{os.getcwd()}/data'\n",
    "IMG_PATH = f'{os.getcwd()}/img'"
   ]
  },
  {
   "cell_type": "code",
   "execution_count": null,
   "metadata": {},
   "outputs": [],
   "source": [
    "# Specifiy here the name of the file you want to use for this analysis\n",
    "POST_FILE = 'instagram-posts_2023-08-07_2023-09-15.csv'\n",
    "REEL_FILE = 'instagram-reels_2023-08-07_2023-09-15.csv'\n",
    "STORY_FILE = 'instagram-stories_2023-08-07_2023-09-15.csv'"
   ]
  },
  {
   "cell_type": "code",
   "execution_count": null,
   "metadata": {},
   "outputs": [],
   "source": [
    "# Upload the data and put date as index (rows are sorted by date)\n",
    "df1 = utility.read_file(POST_FILE, date_col='Timestamp', data_path=DATA_PATH)\n",
    "df2 = utility.read_file(REEL_FILE, date_col='Date', data_path=DATA_PATH)\n",
    "df3 = utility.read_file(STORY_FILE, date_col='Timestamp', data_path=DATA_PATH)"
   ]
  },
  {
   "cell_type": "code",
   "execution_count": null,
   "metadata": {},
   "outputs": [],
   "source": [
    "# Put the dataframe in a dictionnary (used to apply functions to the different dataset in parallel)\n",
    "dfs_dict = {'post':df1, 'reel':df2, 'story':df3}"
   ]
  },
  {
   "cell_type": "markdown",
   "metadata": {},
   "source": [
    "## Add features"
   ]
  },
  {
   "cell_type": "code",
   "execution_count": null,
   "metadata": {},
   "outputs": [],
   "source": [
    "# Set the numero of post for each publication\n",
    "features.set_publication_numero(dfs_dict)"
   ]
  },
  {
   "cell_type": "code",
   "execution_count": null,
   "metadata": {},
   "outputs": [],
   "source": [
    "# Count the number of characters for each publication\n",
    "features.count_content_length(dfs_dict)"
   ]
  },
  {
   "cell_type": "code",
   "execution_count": null,
   "metadata": {},
   "outputs": [],
   "source": [
    "# Count the time between the actual and the last publication\n",
    "features.time_since_last_publication(dfs_dict)"
   ]
  },
  {
   "cell_type": "markdown",
   "metadata": {},
   "source": [
    "## Process data"
   ]
  },
  {
   "cell_type": "code",
   "execution_count": null,
   "metadata": {},
   "outputs": [],
   "source": [
    "## Concat the different dataframe into a single one\n",
    "df = pd.concat([df1,df2,df3], axis=0)\n",
    "# Sort by dates\n",
    "df.sort_index(inplace=True)"
   ]
  },
  {
   "cell_type": "code",
   "execution_count": null,
   "metadata": {},
   "outputs": [],
   "source": [
    "# Visualize the different columns provided\n",
    "df.columns"
   ]
  },
  {
   "cell_type": "code",
   "execution_count": null,
   "metadata": {},
   "outputs": [],
   "source": [
    "# Put the dataframe in a dictionnary (used to apply functions to the different dataset in parallel)\n",
    "df_dict = {'global':df}"
   ]
  },
  {
   "cell_type": "code",
   "execution_count": null,
   "metadata": {},
   "outputs": [],
   "source": [
    "# Set the numero of post for each publication\n",
    "features.set_publication_numero(df_dict)\n",
    "# Count the time between the actual and the last publication\n",
    "features.time_since_last_publication(df_dict)"
   ]
  },
  {
   "cell_type": "markdown",
   "metadata": {},
   "source": [
    "## Explore"
   ]
  },
  {
   "cell_type": "code",
   "execution_count": null,
   "metadata": {},
   "outputs": [],
   "source": [
    "# Plot different graph, allowing an analysis of the Reach during the communication campaign\n",
    "plot.plot_chain(dfs_dict, 'Reach (Organic)', save_img_path=f'{IMG_PATH}/Reach')"
   ]
  },
  {
   "cell_type": "code",
   "execution_count": null,
   "metadata": {},
   "outputs": [],
   "source": [
    "# Plot different graph, allowing an analysis of the Reach during the communication campaign\n",
    "plot.plot_chain(df_dict, 'Reach (Organic)', save_img_path=f'{IMG_PATH}/Reach')"
   ]
  },
  {
   "cell_type": "code",
   "execution_count": null,
   "metadata": {},
   "outputs": [],
   "source": []
  }
 ],
 "metadata": {
  "kernelspec": {
   "display_name": "data_analysis",
   "language": "python",
   "name": "python3"
  },
  "language_info": {
   "codemirror_mode": {
    "name": "ipython",
    "version": 3
   },
   "file_extension": ".py",
   "mimetype": "text/x-python",
   "name": "python",
   "nbconvert_exporter": "python",
   "pygments_lexer": "ipython3",
   "version": "3.8.10"
  },
  "orig_nbformat": 4
 },
 "nbformat": 4,
 "nbformat_minor": 2
}
